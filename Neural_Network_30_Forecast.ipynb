{
  "nbformat": 4,
  "nbformat_minor": 0,
  "metadata": {
    "colab": {
      "name": "Neural Network 30 Forecast",
      "provenance": [],
      "collapsed_sections": [],
      "machine_shape": "hm",
      "authorship_tag": "ABX9TyM6Xd8Ckob58gxNrrbRkTlm",
      "include_colab_link": true
    },
    "kernelspec": {
      "name": "python3",
      "display_name": "Python 3"
    },
    "language_info": {
      "name": "python"
    }
  },
  "cells": [
    {
      "cell_type": "markdown",
      "metadata": {
        "id": "view-in-github",
        "colab_type": "text"
      },
      "source": [
        "<a href=\"https://colab.research.google.com/github/bipin-a/Machine-Learning-Notes/blob/main/Neural_Network_30_Forecast.ipynb\" target=\"_parent\"><img src=\"https://colab.research.google.com/assets/colab-badge.svg\" alt=\"Open In Colab\"/></a>"
      ]
    },
    {
      "cell_type": "code",
      "source": [
        "import pandas as pd\n",
        "import matplotlib.pyplot as plt\n",
        "import math\n",
        "import numpy as np\n",
        "from scipy.stats import entropy\n",
        "from scipy.signal import find_peaks\n",
        "from sklearn.preprocessing import PowerTransformer\n",
        "from datetime import timedelta\n",
        "from math import log2\n",
        "from scipy.signal import peak_prominences\n",
        "import tensorflow as tf\n",
        "import json\n",
        "import random\n",
        "import gc\n",
        "from typing import Union\n",
        "from collections import namedtuple\n",
        "import pickle\n",
        "import numpy.typing as npt\n",
        "import keras"
      ],
      "metadata": {
        "id": "BmXh4VcUj4nd"
      },
      "execution_count": 2,
      "outputs": []
    },
    {
      "cell_type": "code",
      "source": [
        "print(\"Num GPUs Available: \", len(tf.config.list_physical_devices('GPU')))\n"
      ],
      "metadata": {
        "colab": {
          "base_uri": "https://localhost:8080/"
        },
        "id": "AAMtxK1vj5a_",
        "outputId": "7f846952-593d-4766-d1cf-6870f9917914"
      },
      "execution_count": 3,
      "outputs": [
        {
          "output_type": "stream",
          "name": "stdout",
          "text": [
            "Num GPUs Available:  0\n"
          ]
        }
      ]
    },
    {
      "cell_type": "code",
      "source": [
        "from google.colab import drive\n",
        "drive.mount('/content/drive')\n",
        "data_dir = \"/content/drive/Shareddrives/BipinA/Neural_Networks_Data/\""
      ],
      "metadata": {
        "colab": {
          "base_uri": "https://localhost:8080/"
        },
        "id": "onESRPgYj6nH",
        "outputId": "82d0b8cb-babc-466a-ef30-41a5449e1615"
      },
      "execution_count": 4,
      "outputs": [
        {
          "output_type": "stream",
          "name": "stdout",
          "text": [
            "Mounted at /content/drive\n"
          ]
        }
      ]
    },
    {
      "cell_type": "code",
      "source": [
        "class MinMax:\n",
        "  def scale(self,X:pd.Series, min:int, max: int):\n",
        "    return  (X - min) / (max - min) \n",
        "\n",
        "class Standardize:\n",
        "  def scale(self, X:pd.Series, mean:int, std: int) -> pd.Series:\n",
        "    return (X-mean) / std\n",
        "\n",
        "class Nada:\n",
        "  def scale(self, X:pd.Series, mean:int, std: int) -> pd.Series:\n",
        "    return None"
      ],
      "metadata": {
        "id": "5LAdIU_akLlC"
      },
      "execution_count": 5,
      "outputs": []
    },
    {
      "cell_type": "code",
      "source": [
        "gc.enable()\n",
        "gc.collect()\n",
        "INPUT_SIZE = 300\n",
        "output_sizes = [30,120,270]\n",
        "STEP_SIZE = 3\n",
        "minmaxscaler = MinMax()\n",
        "standardizescaler = Standardize()\n",
        "nada = Nada()\n",
        "n_features = 1"
      ],
      "metadata": {
        "id": "FQjjKyIUj1P-"
      },
      "execution_count": 6,
      "outputs": []
    },
    {
      "cell_type": "code",
      "execution_count": 7,
      "metadata": {
        "id": "MVdJ8A1SjsJ4"
      },
      "outputs": [],
      "source": [
        "Experiment = namedtuple(\"Experiment\", \"X_train Y_train X_test Y_test X_val Y_val OUTPUT_SIZE scaler_name TS_Train TS_Test TS_Val\")\n",
        "Experiment_30 = {}\n",
        "OUTPUT_SIZE = 30\n",
        "for scaler in [minmaxscaler, standardizescaler, nada]:\n",
        "  scaler_name = type(scaler).__name__\n",
        "  EXP_NAME = str(OUTPUT_SIZE) + str(scaler_name)\n",
        "  \n",
        "  with open(f\"{data_dir}_ExperimentDictionary_{EXP_NAME}.pickle\", 'rb') as f:\n",
        "        Experiment_30[EXP_NAME] = pickle.load(f)"
      ]
    },
    {
      "cell_type": "code",
      "source": [
        "Experiment_30.keys()"
      ],
      "metadata": {
        "colab": {
          "base_uri": "https://localhost:8080/"
        },
        "id": "usJoV--ukzYv",
        "outputId": "c43591c5-bff4-4bdb-8fc4-016f0488448d"
      },
      "execution_count": 8,
      "outputs": [
        {
          "output_type": "execute_result",
          "data": {
            "text/plain": [
              "dict_keys(['30MinMax', '30Standardize', '30Nada'])"
            ]
          },
          "metadata": {},
          "execution_count": 8
        }
      ]
    },
    {
      "cell_type": "markdown",
      "source": [
        "# Models"
      ],
      "metadata": {
        "id": "OttXFzi4k4q1"
      }
    },
    {
      "cell_type": "code",
      "source": [
        "def create_CNN(INPUT_SIZE, OUTPUT_SIZE):\n",
        "\n",
        "  CONV_WIDTH = 3\n",
        "  multi_conv_model = tf.keras.Sequential([\n",
        "      # Shape [batch, time, features] => [batch, CONV_WIDTH, features]\n",
        "      tf.keras.layers.Lambda(lambda x: x[:, -CONV_WIDTH:, :]),\n",
        "      # Shape => [batch, 1, conv_units]\n",
        "      tf.keras.layers.Conv1D(256, activation='relu', kernel_size=(CONV_WIDTH)),\n",
        "      # Shape => [batch, 1,  out_steps*features]\n",
        "      tf.keras.layers.Dense(OUTPUT_SIZE*1,\n",
        "                            kernel_initializer=tf.initializers.zeros()),\n",
        "      # Shape => [batch, out_steps, features]\n",
        "      tf.keras.layers.Reshape([OUTPUT_SIZE, 1])\n",
        "  ])\n",
        "\n",
        "  return multi_conv_model"
      ],
      "metadata": {
        "id": "ZiBVVy4fEFdS"
      },
      "execution_count": 9,
      "outputs": []
    },
    {
      "cell_type": "code",
      "source": [
        "def create_FFNN(INPUT_SIZE, OUTPUT_SIZE):\n",
        "\n",
        "  dense = tf.keras.Sequential([\n",
        "  tf.keras.layers.Dense(INPUT_SIZE, activation=\"relu\", input_shape=(INPUT_SIZE,)), \n",
        "  tf.keras.layers.Dense(units=128, activation='relu'),\n",
        "  tf.keras.layers.Dense(units=128, activation='relu'),\n",
        "  tf.keras.layers.Dense(units=128, activation='relu'),\n",
        "  tf.keras.layers.Dense(units=64, activation='relu'),\n",
        "  tf.keras.layers.Dense(units=64, activation='relu'),\n",
        "  tf.keras.layers.Dense(units=OUTPUT_SIZE)])\n",
        "\n",
        "  return dense"
      ],
      "metadata": {
        "id": "EMzuXymWfWVC"
      },
      "execution_count": 10,
      "outputs": []
    },
    {
      "cell_type": "code",
      "source": [
        "# def create_RNN(INPUT_SIZE, OUTPUT_SIZE):\n",
        "#   rnn = tf.keras.Sequential([\n",
        "#     # Shape [batch, time, features] => [batch, lstm_units].\n",
        "#     # Adding more `lstm_units` just overfits more quickly.\n",
        "#     tf.keras.layers.SimpleRNN(32, return_sequences=False),\n",
        "#     # Shape => [batch, out_steps*features].\n",
        "#     tf.keras.layers.Dense(OUTPUT_SIZE*1,\n",
        "#                           kernel_initializer=tf.initializers.zeros()),\n",
        "#     # Shape => [batch, out_steps, features].\n",
        "#     tf.keras.layers.Reshape([OUTPUT_SIZE, 1])\n",
        "#     ])\n",
        "#   return rnn\n"
      ],
      "metadata": {
        "id": "TbzOOnQiDfwn"
      },
      "execution_count": 11,
      "outputs": []
    },
    {
      "cell_type": "code",
      "source": [
        "def create_LSTM(INPUT_SIZE, OUTPUT_SIZE):\n",
        "  lstm = tf.keras.Sequential([\n",
        "    # Shape [batch, time, features] => [batch, lstm_units].\n",
        "    # Adding more `lstm_units` just overfits more quickly.\n",
        "    tf.keras.layers.LSTM(32, return_sequences=False),\n",
        "    # Shape => [batch, out_steps*features].\n",
        "    tf.keras.layers.Dense(OUTPUT_SIZE*1,\n",
        "                          kernel_initializer=tf.initializers.zeros()),\n",
        "    # Shape => [batch, out_steps, features].\n",
        "    tf.keras.layers.Reshape([OUTPUT_SIZE, 1])\n",
        "    ])\n",
        "  return lstm\n"
      ],
      "metadata": {
        "id": "_cWqtz9Ewb5A"
      },
      "execution_count": 12,
      "outputs": []
    },
    {
      "cell_type": "markdown",
      "source": [
        "# Evaluate"
      ],
      "metadata": {
        "id": "wxJPWk9xlSb4"
      }
    },
    {
      "cell_type": "code",
      "source": [
        "def compile_and_fit(model,X_train, Y_train,X_val,y_val,\n",
        "                    metric, loss, max_epoch,patience=4):\n",
        "  early_stopping = tf.keras.callbacks.EarlyStopping(monitor='val_loss',\n",
        "                                                    patience=patience,\n",
        "                                                    mode='min') # Minimizing the metric\n",
        "\n",
        "  model.compile(loss= loss,\n",
        "                optimizer=tf.optimizers.Adam(),\n",
        "                metrics=[metric])\n",
        "\n",
        "  history = model.fit(X_train, Y_train, epochs=max_epoch,\n",
        "                      validation_data=(X_val,y_val),\n",
        "                      callbacks=[early_stopping])\n",
        "  return history\n",
        "\n",
        "def cumaltive_error(y_true, y_pred):\n",
        "    squared_difference = tf.square(y_true - y_pred)\n",
        "    return tf.reduce_mean(squared_difference, axis=-1)  # Note the `axis=-1`"
      ],
      "metadata": {
        "id": "ijE6U66HlSb5"
      },
      "execution_count": 13,
      "outputs": []
    },
    {
      "cell_type": "code",
      "source": [
        "loss=tf.losses.MeanAbsolutePercentageError()\n",
        "metric=tf.metrics.MeanAbsolutePercentageError()"
      ],
      "metadata": {
        "id": "WJUvtkfWlSb6"
      },
      "execution_count": 14,
      "outputs": []
    },
    {
      "cell_type": "markdown",
      "source": [
        "# See which models work best on which proccessed data"
      ],
      "metadata": {
        "id": "JyuK9TbtUoyG"
      }
    },
    {
      "cell_type": "code",
      "source": [
        "gc.collect()"
      ],
      "metadata": {
        "id": "8FTYbtfhVx0L",
        "colab": {
          "base_uri": "https://localhost:8080/"
        },
        "outputId": "12c3a17a-bfd0-4fde-bac5-77386eb925c2"
      },
      "execution_count": 15,
      "outputs": [
        {
          "output_type": "execute_result",
          "data": {
            "text/plain": [
              "53"
            ]
          },
          "metadata": {},
          "execution_count": 15
        }
      ]
    },
    {
      "cell_type": "code",
      "source": [
        "for k,E in Experiment_30.items():\n",
        "  print(k)"
      ],
      "metadata": {
        "colab": {
          "base_uri": "https://localhost:8080/"
        },
        "id": "1QVWXhzZ057M",
        "outputId": "9323b8f6-86fe-4f24-a25d-f6f7ac8878ea"
      },
      "execution_count": 16,
      "outputs": [
        {
          "output_type": "stream",
          "name": "stdout",
          "text": [
            "30MinMax\n",
            "30Standardize\n",
            "30Nada\n"
          ]
        }
      ]
    },
    {
      "cell_type": "code",
      "source": [
        "MAX_EPOCHS = 20\n",
        "Experiment_results = {}\n",
        "for k,E in Experiment_30.items():\n",
        "  Experiment_results[k] = {}\n",
        "  print(\"Running experiment: \",k)\n",
        "  lstm_model = create_LSTM(INPUT_SIZE, E.OUTPUT_SIZE)\n",
        "  # rnn_model = create_RNN(INPUT_SIZE, E.OUTPUT_SIZE)\n",
        "  cnn_model = create_CNN(INPUT_SIZE, E.OUTPUT_SIZE)\n",
        "  ffnn_model = create_FFNN(INPUT_SIZE, E.OUTPUT_SIZE)\n",
        "\n",
        "  for model, model_name in [(cnn_model,\"cnn\"), (ffnn_model,\"ffnn\"), (lstm_model, \"lstm\")]:\n",
        "    print(\"Using model\", model_name)\n",
        "    try:\n",
        "      model = tf.keras.models.load_model(f\"{data_dir}_{k}_{model_name}\")\n",
        "    except:\n",
        "      history = compile_and_fit(model,\n",
        "                                E.X_train, E.Y_train, E.X_val, E.Y_val, \n",
        "                                metric, loss, max_epoch = MAX_EPOCHS)\n",
        "      model.save(f\"{data_dir}_{k}_{model_name}\", save_format='tf')\n",
        "\n",
        "    y_pred = model.predict(E.X_test)\n",
        "    gc.collect()\n",
        "  \n",
        "    try:\n",
        "      Experiment_results[k][model_name] = {\"history\":history, \"y_pred\": y_pred}\n",
        "    except:\n",
        "      # History of loaded model isn't saved\n",
        "      Experiment_results[k][model_name] = {\"y_pred\": y_pred}\n",
        "\n",
        "gc.collect()"
      ],
      "metadata": {
        "id": "hxLZ0CMlUoBZ",
        "colab": {
          "base_uri": "https://localhost:8080/"
        },
        "outputId": "c39ca11f-5182-4a70-c921-cae65a3c46c1"
      },
      "execution_count": 18,
      "outputs": [
        {
          "output_type": "stream",
          "name": "stdout",
          "text": [
            "Running experiment:  30MinMax\n",
            "Using model cnn\n",
            "Using model ffnn\n",
            "Using model lstm\n",
            "Running experiment:  30Standardize\n",
            "Using model cnn\n",
            "Using model ffnn\n",
            "Using model lstm\n",
            "Running experiment:  30Nada\n",
            "Using model cnn\n",
            "Using model ffnn\n",
            "Using model lstm\n"
          ]
        },
        {
          "output_type": "execute_result",
          "data": {
            "text/plain": [
              "0"
            ]
          },
          "metadata": {},
          "execution_count": 18
        }
      ]
    },
    {
      "cell_type": "code",
      "source": [
        "experiment_dfs = {}\n",
        "\n",
        "for k,v in Experiment_results.items():\n",
        "    P = Experiment_results[k]\n",
        "    E = Experiment_30[k]\n",
        "    truth = E.Y_test\n",
        "    df = pd.DataFrame()\n",
        "\n",
        "    fig,axes = plt.subplots(3,2,figsize=(10,10))\n",
        "    fig.suptitle(f\"{k} Error Metrics\")\n",
        "\n",
        "    for i, (model_name, predictions) in enumerate(P.items()):\n",
        "      \n",
        "      print(i)\n",
        "      pred = predictions.get(\"y_pred\")\n",
        "      if model_name in [\"cnn\",'lstm']:\n",
        "        pred = np.squeeze(pred)\n",
        "\n",
        "      _num = abs(pred - truth)\n",
        "      _denom = (abs(pred) + abs(truth)) / 2\n",
        "      smape_error = np.mean(_num/_denom, axis=1)\n",
        "      _ = axes[i][0].hist(smape_error, bins=50)\n",
        "      axes[i][0].set_title(f\"SMAPE {model_name}\")\n",
        "\n",
        "      mae_error = np.mean(abs((truth-pred)),axis=1)\n",
        "      _ = axes[i][1].hist(mae_error, bins=50)\n",
        "      axes[i][1].set_title(f\"MAE {model_name}\")\n",
        "\n",
        "      df[model_name] = pd.Series(smape_error).rename(f\"{model_name}\")\n",
        "\n",
        "      plt.tight_layout()\n",
        "      fig.savefig(f\"{data_dir}/imgs/{k}ErrorMetrics.png\")\n",
        "    df['TS_ID'] = E.TS_Test\n",
        "    experiment_dfs[k] = df.to_dict()\n",
        "    \n"
      ],
      "metadata": {
        "id": "gaAR--a1hwU6",
        "colab": {
          "base_uri": "https://localhost:8080/",
          "height": 1000
        },
        "outputId": "be2d7909-c2e2-4c91-8dd7-205d85115f7e"
      },
      "execution_count": 48,
      "outputs": [
        {
          "output_type": "stream",
          "name": "stdout",
          "text": [
            "0\n",
            "1\n",
            "2\n",
            "0\n",
            "1\n",
            "2\n",
            "0\n",
            "1\n",
            "2\n"
          ]
        },
        {
          "output_type": "display_data",
          "data": {
            "text/plain": [
              "<Figure size 720x720 with 6 Axes>"
            ],
            "image/png": "[encoded data removed]"
          },
          "metadata": {
            "needs_background": "light"
          }
        },
        {
          "output_type": "display_data",
          "data": {
            "text/plain": [
              "<Figure size 720x720 with 6 Axes>"
            ],
            "image/png": "[encoded data removed]"
          },
          "metadata": {
            "needs_background": "light"
          }
        },
        {
          "output_type": "display_data",
          "data": {
            "text/plain": [
              "<Figure size 720x720 with 6 Axes>"
            ],
            "image/png": "[encoded data removed]"
          },
          "metadata": {
            "needs_background": "light"
          }
        }
      ]
    },
    {
      "cell_type": "code",
      "source": [
        "summary = pd.DataFrame(experiment_dfs['30MinMax'])\n"
      ],
      "metadata": {
        "id": "PZhxcHJZo5Hr"
      },
      "execution_count": 55,
      "outputs": []
    },
    {
      "cell_type": "code",
      "source": [
        "summary"
      ],
      "metadata": {
        "colab": {
          "base_uri": "https://localhost:8080/",
          "height": 423
        },
        "id": "2ZzO3gWTvaxV",
        "outputId": "b343c742-de2f-46a8-a82a-9196a1cf00b7"
      },
      "execution_count": 57,
      "outputs": [
        {
          "output_type": "execute_result",
          "data": {
            "text/plain": [
              "            cnn      ffnn      lstm TS_ID\n",
              "0      1.958121  1.972732  1.969785  D637\n",
              "1      1.964601  1.971212  1.970156  D637\n",
              "2      1.963789  1.970929  1.971881  D637\n",
              "3      1.959725  1.969683  1.970254  D637\n",
              "4      1.956096  1.965946  1.969763  D637\n",
              "...         ...       ...       ...   ...\n",
              "34645  1.973308  1.980250  1.979858  W294\n",
              "34646  1.972693  1.979465  1.980506  W294\n",
              "34647  1.973239  1.980000  1.979816  W294\n",
              "34648  1.972855  1.980827  1.980392  W294\n",
              "34649  1.972871  1.980947  1.979927  W294\n",
              "\n",
              "[34650 rows x 4 columns]"
            ],
            "text/html": [
              "\n",
              "  <div id=\"df-b269267c-903f-45c8-aa8c-8c82bfd59e12\">\n",
              "    <div class=\"colab-df-container\">\n",
              "      <div>\n",
              "<style scoped>\n",
              "    .dataframe tbody tr th:only-of-type {\n",
              "        vertical-align: middle;\n",
              "    }\n",
              "\n",
              "    .dataframe tbody tr th {\n",
              "        vertical-align: top;\n",
              "    }\n",
              "\n",
              "    .dataframe thead th {\n",
              "        text-align: right;\n",
              "    }\n",
              "</style>\n",
              "<table border=\"1\" class=\"dataframe\">\n",
              "  <thead>\n",
              "    <tr style=\"text-align: right;\">\n",
              "      <th></th>\n",
              "      <th>cnn</th>\n",
              "      <th>ffnn</th>\n",
              "      <th>lstm</th>\n",
              "      <th>TS_ID</th>\n",
              "    </tr>\n",
              "  </thead>\n",
              "  <tbody>\n",
              "    <tr>\n",
              "      <th>0</th>\n",
              "      <td>1.958121</td>\n",
              "      <td>1.972732</td>\n",
              "      <td>1.969785</td>\n",
              "      <td>D637</td>\n",
              "    </tr>\n",
              "    <tr>\n",
              "      <th>1</th>\n",
              "      <td>1.964601</td>\n",
              "      <td>1.971212</td>\n",
              "      <td>1.970156</td>\n",
              "      <td>D637</td>\n",
              "    </tr>\n",
              "    <tr>\n",
              "      <th>2</th>\n",
              "      <td>1.963789</td>\n",
              "      <td>1.970929</td>\n",
              "      <td>1.971881</td>\n",
              "      <td>D637</td>\n",
              "    </tr>\n",
              "    <tr>\n",
              "      <th>3</th>\n",
              "      <td>1.959725</td>\n",
              "      <td>1.969683</td>\n",
              "      <td>1.970254</td>\n",
              "      <td>D637</td>\n",
              "    </tr>\n",
              "    <tr>\n",
              "      <th>4</th>\n",
              "      <td>1.956096</td>\n",
              "      <td>1.965946</td>\n",
              "      <td>1.969763</td>\n",
              "      <td>D637</td>\n",
              "    </tr>\n",
              "    <tr>\n",
              "      <th>...</th>\n",
              "      <td>...</td>\n",
              "      <td>...</td>\n",
              "      <td>...</td>\n",
              "      <td>...</td>\n",
              "    </tr>\n",
              "    <tr>\n",
              "      <th>34645</th>\n",
              "      <td>1.973308</td>\n",
              "      <td>1.980250</td>\n",
              "      <td>1.979858</td>\n",
              "      <td>W294</td>\n",
              "    </tr>\n",
              "    <tr>\n",
              "      <th>34646</th>\n",
              "      <td>1.972693</td>\n",
              "      <td>1.979465</td>\n",
              "      <td>1.980506</td>\n",
              "      <td>W294</td>\n",
              "    </tr>\n",
              "    <tr>\n",
              "      <th>34647</th>\n",
              "      <td>1.973239</td>\n",
              "      <td>1.980000</td>\n",
              "      <td>1.979816</td>\n",
              "      <td>W294</td>\n",
              "    </tr>\n",
              "    <tr>\n",
              "      <th>34648</th>\n",
              "      <td>1.972855</td>\n",
              "      <td>1.980827</td>\n",
              "      <td>1.980392</td>\n",
              "      <td>W294</td>\n",
              "    </tr>\n",
              "    <tr>\n",
              "      <th>34649</th>\n",
              "      <td>1.972871</td>\n",
              "      <td>1.980947</td>\n",
              "      <td>1.979927</td>\n",
              "      <td>W294</td>\n",
              "    </tr>\n",
              "  </tbody>\n",
              "</table>\n",
              "<p>34650 rows × 4 columns</p>\n",
              "</div>\n",
              "      <button class=\"colab-df-convert\" onclick=\"convertToInteractive('df-b269267c-903f-45c8-aa8c-8c82bfd59e12')\"\n",
              "              title=\"Convert this dataframe to an interactive table.\"\n",
              "              style=\"display:none;\">\n",
              "        \n",
              "  <svg xmlns=\"http://www.w3.org/2000/svg\" height=\"24px\"viewBox=\"0 0 24 24\"\n",
              "       width=\"24px\">\n",
              "    <path d=\"M0 0h24v24H0V0z\" fill=\"none\"/>\n",
              "    <path d=\"M18.56 5.44l.94 2.06.94-2.06 2.06-.94-2.06-.94-.94-2.06-.94 2.06-2.06.94zm-11 1L8.5 8.5l.94-2.06 2.06-.94-2.06-.94L8.5 2.5l-.94 2.06-2.06.94zm10 10l.94 2.06.94-2.06 2.06-.94-2.06-.94-.94-2.06-.94 2.06-2.06.94z\"/><path d=\"M17.41 7.96l-1.37-1.37c-.4-.4-.92-.59-1.43-.59-.52 0-1.04.2-1.43.59L10.3 9.45l-7.72 7.72c-.78.78-.78 2.05 0 2.83L4 21.41c.39.39.9.59 1.41.59.51 0 1.02-.2 1.41-.59l7.78-7.78 2.81-2.81c.8-.78.8-2.07 0-2.86zM5.41 20L4 18.59l7.72-7.72 1.47 1.35L5.41 20z\"/>\n",
              "  </svg>\n",
              "      </button>\n",
              "      \n",
              "  <style>\n",
              "    .colab-df-container {\n",
              "      display:flex;\n",
              "      flex-wrap:wrap;\n",
              "      gap: 12px;\n",
              "    }\n",
              "\n",
              "    .colab-df-convert {\n",
              "      background-color: #E8F0FE;\n",
              "      border: none;\n",
              "      border-radius: 50%;\n",
              "      cursor: pointer;\n",
              "      display: none;\n",
              "      fill: #1967D2;\n",
              "      height: 32px;\n",
              "      padding: 0 0 0 0;\n",
              "      width: 32px;\n",
              "    }\n",
              "\n",
              "    .colab-df-convert:hover {\n",
              "      background-color: #E2EBFA;\n",
              "      box-shadow: 0px 1px 2px rgba(60, 64, 67, 0.3), 0px 1px 3px 1px rgba(60, 64, 67, 0.15);\n",
              "      fill: #174EA6;\n",
              "    }\n",
              "\n",
              "    [theme=dark] .colab-df-convert {\n",
              "      background-color: #3B4455;\n",
              "      fill: #D2E3FC;\n",
              "    }\n",
              "\n",
              "    [theme=dark] .colab-df-convert:hover {\n",
              "      background-color: #434B5C;\n",
              "      box-shadow: 0px 1px 3px 1px rgba(0, 0, 0, 0.15);\n",
              "      filter: drop-shadow(0px 1px 2px rgba(0, 0, 0, 0.3));\n",
              "      fill: #FFFFFF;\n",
              "    }\n",
              "  </style>\n",
              "\n",
              "      <script>\n",
              "        const buttonEl =\n",
              "          document.querySelector('#df-b269267c-903f-45c8-aa8c-8c82bfd59e12 button.colab-df-convert');\n",
              "        buttonEl.style.display =\n",
              "          google.colab.kernel.accessAllowed ? 'block' : 'none';\n",
              "\n",
              "        async function convertToInteractive(key) {\n",
              "          const element = document.querySelector('#df-b269267c-903f-45c8-aa8c-8c82bfd59e12');\n",
              "          const dataTable =\n",
              "            await google.colab.kernel.invokeFunction('convertToInteractive',\n",
              "                                                     [key], {});\n",
              "          if (!dataTable) return;\n",
              "\n",
              "          const docLinkHtml = 'Like what you see? Visit the ' +\n",
              "            '<a target=\"_blank\" href=https://colab.research.google.com/notebooks/data_table.ipynb>data table notebook</a>'\n",
              "            + ' to learn more about interactive tables.';\n",
              "          element.innerHTML = '';\n",
              "          dataTable['output_type'] = 'display_data';\n",
              "          await google.colab.output.renderOutput(dataTable, element);\n",
              "          const docLink = document.createElement('div');\n",
              "          docLink.innerHTML = docLinkHtml;\n",
              "          element.appendChild(docLink);\n",
              "        }\n",
              "      </script>\n",
              "    </div>\n",
              "  </div>\n",
              "  "
            ]
          },
          "metadata": {},
          "execution_count": 57
        }
      ]
    },
    {
      "cell_type": "code",
      "source": [
        "daily_features = pd.concat([pd.read_csv(f\"{data_dir}daily_features.csv\"),pd.read_csv(f\"{data_dir}daily_features_pt2.csv\")])\n",
        "weekly_features = pd.read_csv(f\"{data_dir}weekly_features.csv\")\n",
        "monthly_features = pd.concat([pd.read_csv(f\"{data_dir}monthly_features_1.csv\"),\n",
        "                              pd.read_csv(f\"{data_dir}monthly_features_2.csv\"),\n",
        "                              pd.read_csv(f\"{data_dir}monthly_features_3.csv\"),\n",
        "                              pd.read_csv(f\"{data_dir}monthly_features_4.csv\"),\n",
        "                              pd.read_csv(f\"{data_dir}monthly_features_5.csv\"),\n",
        "                              ])\n",
        "all_features = pd.concat([daily_features,weekly_features,monthly_features])\n",
        "del daily_features, weekly_features, monthly_features\n",
        "all_features['FREQ']=all_features['V1'].apply(lambda x :x[0])\n"
      ],
      "metadata": {
        "id": "BpK5yOe6uoXB"
      },
      "execution_count": 66,
      "outputs": []
    },
    {
      "cell_type": "code",
      "source": [
        "cols = ['f_linearity','f_entropy','f_all_seasonality_strength','f_trend_strength','V1','FREQ']\n",
        "all_features = all_features[cols]"
      ],
      "metadata": {
        "id": "bxAZe-ASu97_"
      },
      "execution_count": 67,
      "outputs": []
    },
    {
      "cell_type": "code",
      "source": [
        "all_features"
      ],
      "metadata": {
        "colab": {
          "base_uri": "https://localhost:8080/",
          "height": 423
        },
        "id": "F4MNuRBhvemM",
        "outputId": "959008c7-5dc5-480e-e9c7-cb9517d874dc"
      },
      "execution_count": 68,
      "outputs": [
        {
          "output_type": "execute_result",
          "data": {
            "text/plain": [
              "      f_linearity  f_entropy  f_all_seasonality_strength  f_trend_strength  \\\n",
              "0        0.973209   9.958312                    0.895773          0.998701   \n",
              "1        0.587550   9.986778                    0.697496          0.980055   \n",
              "2        0.164803   7.167537                    0.198473          0.325886   \n",
              "3        0.034539   7.496995                    0.093767          0.112556   \n",
              "4        0.858135   7.371108                    0.064006          0.909748   \n",
              "...           ...        ...                         ...               ...   \n",
              "1995     0.641946   6.261576                    0.792982          0.951414   \n",
              "1996     0.696387   6.357279                    0.605250          0.873595   \n",
              "1997     0.828145   6.259761                    0.156435          0.871005   \n",
              "1998     0.791964   6.315970                    0.198224          0.898742   \n",
              "1999     0.611366   6.353701                    0.700945          0.873829   \n",
              "\n",
              "          V1 FREQ  \n",
              "0         D1    D  \n",
              "1         D2    D  \n",
              "2         D3    D  \n",
              "3         D4    D  \n",
              "4         D5    D  \n",
              "...      ...  ...  \n",
              "1995   M9996    M  \n",
              "1996   M9997    M  \n",
              "1997   M9998    M  \n",
              "1998   M9999    M  \n",
              "1999  M10000    M  \n",
              "\n",
              "[14586 rows x 6 columns]"
            ],
            "text/html": [
              "\n",
              "  <div id=\"df-03970954-7f96-4318-a381-c214b3f1a3bf\">\n",
              "    <div class=\"colab-df-container\">\n",
              "      <div>\n",
              "<style scoped>\n",
              "    .dataframe tbody tr th:only-of-type {\n",
              "        vertical-align: middle;\n",
              "    }\n",
              "\n",
              "    .dataframe tbody tr th {\n",
              "        vertical-align: top;\n",
              "    }\n",
              "\n",
              "    .dataframe thead th {\n",
              "        text-align: right;\n",
              "    }\n",
              "</style>\n",
              "<table border=\"1\" class=\"dataframe\">\n",
              "  <thead>\n",
              "    <tr style=\"text-align: right;\">\n",
              "      <th></th>\n",
              "      <th>f_linearity</th>\n",
              "      <th>f_entropy</th>\n",
              "      <th>f_all_seasonality_strength</th>\n",
              "      <th>f_trend_strength</th>\n",
              "      <th>V1</th>\n",
              "      <th>FREQ</th>\n",
              "    </tr>\n",
              "  </thead>\n",
              "  <tbody>\n",
              "    <tr>\n",
              "      <th>0</th>\n",
              "      <td>0.973209</td>\n",
              "      <td>9.958312</td>\n",
              "      <td>0.895773</td>\n",
              "      <td>0.998701</td>\n",
              "      <td>D1</td>\n",
              "      <td>D</td>\n",
              "    </tr>\n",
              "    <tr>\n",
              "      <th>1</th>\n",
              "      <td>0.587550</td>\n",
              "      <td>9.986778</td>\n",
              "      <td>0.697496</td>\n",
              "      <td>0.980055</td>\n",
              "      <td>D2</td>\n",
              "      <td>D</td>\n",
              "    </tr>\n",
              "    <tr>\n",
              "      <th>2</th>\n",
              "      <td>0.164803</td>\n",
              "      <td>7.167537</td>\n",
              "      <td>0.198473</td>\n",
              "      <td>0.325886</td>\n",
              "      <td>D3</td>\n",
              "      <td>D</td>\n",
              "    </tr>\n",
              "    <tr>\n",
              "      <th>3</th>\n",
              "      <td>0.034539</td>\n",
              "      <td>7.496995</td>\n",
              "      <td>0.093767</td>\n",
              "      <td>0.112556</td>\n",
              "      <td>D4</td>\n",
              "      <td>D</td>\n",
              "    </tr>\n",
              "    <tr>\n",
              "      <th>4</th>\n",
              "      <td>0.858135</td>\n",
              "      <td>7.371108</td>\n",
              "      <td>0.064006</td>\n",
              "      <td>0.909748</td>\n",
              "      <td>D5</td>\n",
              "      <td>D</td>\n",
              "    </tr>\n",
              "    <tr>\n",
              "      <th>...</th>\n",
              "      <td>...</td>\n",
              "      <td>...</td>\n",
              "      <td>...</td>\n",
              "      <td>...</td>\n",
              "      <td>...</td>\n",
              "      <td>...</td>\n",
              "    </tr>\n",
              "    <tr>\n",
              "      <th>1995</th>\n",
              "      <td>0.641946</td>\n",
              "      <td>6.261576</td>\n",
              "      <td>0.792982</td>\n",
              "      <td>0.951414</td>\n",
              "      <td>M9996</td>\n",
              "      <td>M</td>\n",
              "    </tr>\n",
              "    <tr>\n",
              "      <th>1996</th>\n",
              "      <td>0.696387</td>\n",
              "      <td>6.357279</td>\n",
              "      <td>0.605250</td>\n",
              "      <td>0.873595</td>\n",
              "      <td>M9997</td>\n",
              "      <td>M</td>\n",
              "    </tr>\n",
              "    <tr>\n",
              "      <th>1997</th>\n",
              "      <td>0.828145</td>\n",
              "      <td>6.259761</td>\n",
              "      <td>0.156435</td>\n",
              "      <td>0.871005</td>\n",
              "      <td>M9998</td>\n",
              "      <td>M</td>\n",
              "    </tr>\n",
              "    <tr>\n",
              "      <th>1998</th>\n",
              "      <td>0.791964</td>\n",
              "      <td>6.315970</td>\n",
              "      <td>0.198224</td>\n",
              "      <td>0.898742</td>\n",
              "      <td>M9999</td>\n",
              "      <td>M</td>\n",
              "    </tr>\n",
              "    <tr>\n",
              "      <th>1999</th>\n",
              "      <td>0.611366</td>\n",
              "      <td>6.353701</td>\n",
              "      <td>0.700945</td>\n",
              "      <td>0.873829</td>\n",
              "      <td>M10000</td>\n",
              "      <td>M</td>\n",
              "    </tr>\n",
              "  </tbody>\n",
              "</table>\n",
              "<p>14586 rows × 6 columns</p>\n",
              "</div>\n",
              "      <button class=\"colab-df-convert\" onclick=\"convertToInteractive('df-03970954-7f96-4318-a381-c214b3f1a3bf')\"\n",
              "              title=\"Convert this dataframe to an interactive table.\"\n",
              "              style=\"display:none;\">\n",
              "        \n",
              "  <svg xmlns=\"http://www.w3.org/2000/svg\" height=\"24px\"viewBox=\"0 0 24 24\"\n",
              "       width=\"24px\">\n",
              "    <path d=\"M0 0h24v24H0V0z\" fill=\"none\"/>\n",
              "    <path d=\"M18.56 5.44l.94 2.06.94-2.06 2.06-.94-2.06-.94-.94-2.06-.94 2.06-2.06.94zm-11 1L8.5 8.5l.94-2.06 2.06-.94-2.06-.94L8.5 2.5l-.94 2.06-2.06.94zm10 10l.94 2.06.94-2.06 2.06-.94-2.06-.94-.94-2.06-.94 2.06-2.06.94z\"/><path d=\"M17.41 7.96l-1.37-1.37c-.4-.4-.92-.59-1.43-.59-.52 0-1.04.2-1.43.59L10.3 9.45l-7.72 7.72c-.78.78-.78 2.05 0 2.83L4 21.41c.39.39.9.59 1.41.59.51 0 1.02-.2 1.41-.59l7.78-7.78 2.81-2.81c.8-.78.8-2.07 0-2.86zM5.41 20L4 18.59l7.72-7.72 1.47 1.35L5.41 20z\"/>\n",
              "  </svg>\n",
              "      </button>\n",
              "      \n",
              "  <style>\n",
              "    .colab-df-container {\n",
              "      display:flex;\n",
              "      flex-wrap:wrap;\n",
              "      gap: 12px;\n",
              "    }\n",
              "\n",
              "    .colab-df-convert {\n",
              "      background-color: #E8F0FE;\n",
              "      border: none;\n",
              "      border-radius: 50%;\n",
              "      cursor: pointer;\n",
              "      display: none;\n",
              "      fill: #1967D2;\n",
              "      height: 32px;\n",
              "      padding: 0 0 0 0;\n",
              "      width: 32px;\n",
              "    }\n",
              "\n",
              "    .colab-df-convert:hover {\n",
              "      background-color: #E2EBFA;\n",
              "      box-shadow: 0px 1px 2px rgba(60, 64, 67, 0.3), 0px 1px 3px 1px rgba(60, 64, 67, 0.15);\n",
              "      fill: #174EA6;\n",
              "    }\n",
              "\n",
              "    [theme=dark] .colab-df-convert {\n",
              "      background-color: #3B4455;\n",
              "      fill: #D2E3FC;\n",
              "    }\n",
              "\n",
              "    [theme=dark] .colab-df-convert:hover {\n",
              "      background-color: #434B5C;\n",
              "      box-shadow: 0px 1px 3px 1px rgba(0, 0, 0, 0.15);\n",
              "      filter: drop-shadow(0px 1px 2px rgba(0, 0, 0, 0.3));\n",
              "      fill: #FFFFFF;\n",
              "    }\n",
              "  </style>\n",
              "\n",
              "      <script>\n",
              "        const buttonEl =\n",
              "          document.querySelector('#df-03970954-7f96-4318-a381-c214b3f1a3bf button.colab-df-convert');\n",
              "        buttonEl.style.display =\n",
              "          google.colab.kernel.accessAllowed ? 'block' : 'none';\n",
              "\n",
              "        async function convertToInteractive(key) {\n",
              "          const element = document.querySelector('#df-03970954-7f96-4318-a381-c214b3f1a3bf');\n",
              "          const dataTable =\n",
              "            await google.colab.kernel.invokeFunction('convertToInteractive',\n",
              "                                                     [key], {});\n",
              "          if (!dataTable) return;\n",
              "\n",
              "          const docLinkHtml = 'Like what you see? Visit the ' +\n",
              "            '<a target=\"_blank\" href=https://colab.research.google.com/notebooks/data_table.ipynb>data table notebook</a>'\n",
              "            + ' to learn more about interactive tables.';\n",
              "          element.innerHTML = '';\n",
              "          dataTable['output_type'] = 'display_data';\n",
              "          await google.colab.output.renderOutput(dataTable, element);\n",
              "          const docLink = document.createElement('div');\n",
              "          docLink.innerHTML = docLinkHtml;\n",
              "          element.appendChild(docLink);\n",
              "        }\n",
              "      </script>\n",
              "    </div>\n",
              "  </div>\n",
              "  "
            ]
          },
          "metadata": {},
          "execution_count": 68
        }
      ]
    },
    {
      "cell_type": "code",
      "source": [
        "gc.collect()"
      ],
      "metadata": {
        "colab": {
          "base_uri": "https://localhost:8080/"
        },
        "id": "5neMefRMufV8",
        "outputId": "828bebaa-5ae4-48d9-98bd-59f6baf3aab7"
      },
      "execution_count": 69,
      "outputs": [
        {
          "output_type": "execute_result",
          "data": {
            "text/plain": [
              "197"
            ]
          },
          "metadata": {},
          "execution_count": 69
        }
      ]
    },
    {
      "cell_type": "code",
      "source": [
        "! pip install plotly"
      ],
      "metadata": {
        "colab": {
          "base_uri": "https://localhost:8080/"
        },
        "id": "pw51795Fv2t7",
        "outputId": "ad31892e-bf6f-4a67-e9bf-cb0f470963c5"
      },
      "execution_count": 71,
      "outputs": [
        {
          "output_type": "stream",
          "name": "stdout",
          "text": [
            "Requirement already satisfied: plotly in /usr/local/lib/python3.7/dist-packages (5.5.0)\n",
            "Requirement already satisfied: six in /usr/local/lib/python3.7/dist-packages (from plotly) (1.15.0)\n",
            "Requirement already satisfied: tenacity>=6.2.0 in /usr/local/lib/python3.7/dist-packages (from plotly) (8.0.1)\n"
          ]
        }
      ]
    },
    {
      "cell_type": "code",
      "source": [
        "import plotly.express as px"
      ],
      "metadata": {
        "id": "bO2PtvKev5sh"
      },
      "execution_count": 72,
      "outputs": []
    },
    {
      "cell_type": "code",
      "source": [
        "features_summary = pd.merge(summary,all_features, how='inner', left_on ='TS_ID', right_on='V1')"
      ],
      "metadata": {
        "id": "mMIbQl4pu2-h"
      },
      "execution_count": 73,
      "outputs": []
    },
    {
      "cell_type": "code",
      "source": [
        "features_summary"
      ],
      "metadata": {
        "colab": {
          "base_uri": "https://localhost:8080/",
          "height": 468
        },
        "id": "CcTdlBagvRw9",
        "outputId": "7b9404ac-1259-42a9-a266-7d40e11b9a32"
      },
      "execution_count": 74,
      "outputs": [
        {
          "output_type": "execute_result",
          "data": {
            "text/plain": [
              "            cnn      ffnn      lstm TS_ID  f_linearity  f_entropy  \\\n",
              "0      1.958121  1.972732  1.969785  D637     0.650487  10.222214   \n",
              "1      1.964601  1.971212  1.970156  D637     0.650487  10.222214   \n",
              "2      1.963789  1.970929  1.971881  D637     0.650487  10.222214   \n",
              "3      1.959725  1.969683  1.970254  D637     0.650487  10.222214   \n",
              "4      1.956096  1.965946  1.969763  D637     0.650487  10.222214   \n",
              "...         ...       ...       ...   ...          ...        ...   \n",
              "34645  1.973308  1.980250  1.979858  W294     0.170635  10.152335   \n",
              "34646  1.972693  1.979465  1.980506  W294     0.170635  10.152335   \n",
              "34647  1.973239  1.980000  1.979816  W294     0.170635  10.152335   \n",
              "34648  1.972855  1.980827  1.980392  W294     0.170635  10.152335   \n",
              "34649  1.972871  1.980947  1.979927  W294     0.170635  10.152335   \n",
              "\n",
              "       f_all_seasonality_strength  f_trend_strength    V1 FREQ  \n",
              "0                        0.621709          0.943462  D637    D  \n",
              "1                        0.621709          0.943462  D637    D  \n",
              "2                        0.621709          0.943462  D637    D  \n",
              "3                        0.621709          0.943462  D637    D  \n",
              "4                        0.621709          0.943462  D637    D  \n",
              "...                           ...               ...   ...  ...  \n",
              "34645                    0.807658          0.743973  W294    W  \n",
              "34646                    0.807658          0.743973  W294    W  \n",
              "34647                    0.807658          0.743973  W294    W  \n",
              "34648                    0.807658          0.743973  W294    W  \n",
              "34649                    0.807658          0.743973  W294    W  \n",
              "\n",
              "[34650 rows x 10 columns]"
            ],
            "text/html": [
              "\n",
              "  <div id=\"df-b67f2435-3f17-494c-88bd-bbd26c142977\">\n",
              "    <div class=\"colab-df-container\">\n",
              "      <div>\n",
              "<style scoped>\n",
              "    .dataframe tbody tr th:only-of-type {\n",
              "        vertical-align: middle;\n",
              "    }\n",
              "\n",
              "    .dataframe tbody tr th {\n",
              "        vertical-align: top;\n",
              "    }\n",
              "\n",
              "    .dataframe thead th {\n",
              "        text-align: right;\n",
              "    }\n",
              "</style>\n",
              "<table border=\"1\" class=\"dataframe\">\n",
              "  <thead>\n",
              "    <tr style=\"text-align: right;\">\n",
              "      <th></th>\n",
              "      <th>cnn</th>\n",
              "      <th>ffnn</th>\n",
              "      <th>lstm</th>\n",
              "      <th>TS_ID</th>\n",
              "      <th>f_linearity</th>\n",
              "      <th>f_entropy</th>\n",
              "      <th>f_all_seasonality_strength</th>\n",
              "      <th>f_trend_strength</th>\n",
              "      <th>V1</th>\n",
              "      <th>FREQ</th>\n",
              "    </tr>\n",
              "  </thead>\n",
              "  <tbody>\n",
              "    <tr>\n",
              "      <th>0</th>\n",
              "      <td>1.958121</td>\n",
              "      <td>1.972732</td>\n",
              "      <td>1.969785</td>\n",
              "      <td>D637</td>\n",
              "      <td>0.650487</td>\n",
              "      <td>10.222214</td>\n",
              "      <td>0.621709</td>\n",
              "      <td>0.943462</td>\n",
              "      <td>D637</td>\n",
              "      <td>D</td>\n",
              "    </tr>\n",
              "    <tr>\n",
              "      <th>1</th>\n",
              "      <td>1.964601</td>\n",
              "      <td>1.971212</td>\n",
              "      <td>1.970156</td>\n",
              "      <td>D637</td>\n",
              "      <td>0.650487</td>\n",
              "      <td>10.222214</td>\n",
              "      <td>0.621709</td>\n",
              "      <td>0.943462</td>\n",
              "      <td>D637</td>\n",
              "      <td>D</td>\n",
              "    </tr>\n",
              "    <tr>\n",
              "      <th>2</th>\n",
              "      <td>1.963789</td>\n",
              "      <td>1.970929</td>\n",
              "      <td>1.971881</td>\n",
              "      <td>D637</td>\n",
              "      <td>0.650487</td>\n",
              "      <td>10.222214</td>\n",
              "      <td>0.621709</td>\n",
              "      <td>0.943462</td>\n",
              "      <td>D637</td>\n",
              "      <td>D</td>\n",
              "    </tr>\n",
              "    <tr>\n",
              "      <th>3</th>\n",
              "      <td>1.959725</td>\n",
              "      <td>1.969683</td>\n",
              "      <td>1.970254</td>\n",
              "      <td>D637</td>\n",
              "      <td>0.650487</td>\n",
              "      <td>10.222214</td>\n",
              "      <td>0.621709</td>\n",
              "      <td>0.943462</td>\n",
              "      <td>D637</td>\n",
              "      <td>D</td>\n",
              "    </tr>\n",
              "    <tr>\n",
              "      <th>4</th>\n",
              "      <td>1.956096</td>\n",
              "      <td>1.965946</td>\n",
              "      <td>1.969763</td>\n",
              "      <td>D637</td>\n",
              "      <td>0.650487</td>\n",
              "      <td>10.222214</td>\n",
              "      <td>0.621709</td>\n",
              "      <td>0.943462</td>\n",
              "      <td>D637</td>\n",
              "      <td>D</td>\n",
              "    </tr>\n",
              "    <tr>\n",
              "      <th>...</th>\n",
              "      <td>...</td>\n",
              "      <td>...</td>\n",
              "      <td>...</td>\n",
              "      <td>...</td>\n",
              "      <td>...</td>\n",
              "      <td>...</td>\n",
              "      <td>...</td>\n",
              "      <td>...</td>\n",
              "      <td>...</td>\n",
              "      <td>...</td>\n",
              "    </tr>\n",
              "    <tr>\n",
              "      <th>34645</th>\n",
              "      <td>1.973308</td>\n",
              "      <td>1.980250</td>\n",
              "      <td>1.979858</td>\n",
              "      <td>W294</td>\n",
              "      <td>0.170635</td>\n",
              "      <td>10.152335</td>\n",
              "      <td>0.807658</td>\n",
              "      <td>0.743973</td>\n",
              "      <td>W294</td>\n",
              "      <td>W</td>\n",
              "    </tr>\n",
              "    <tr>\n",
              "      <th>34646</th>\n",
              "      <td>1.972693</td>\n",
              "      <td>1.979465</td>\n",
              "      <td>1.980506</td>\n",
              "      <td>W294</td>\n",
              "      <td>0.170635</td>\n",
              "      <td>10.152335</td>\n",
              "      <td>0.807658</td>\n",
              "      <td>0.743973</td>\n",
              "      <td>W294</td>\n",
              "      <td>W</td>\n",
              "    </tr>\n",
              "    <tr>\n",
              "      <th>34647</th>\n",
              "      <td>1.973239</td>\n",
              "      <td>1.980000</td>\n",
              "      <td>1.979816</td>\n",
              "      <td>W294</td>\n",
              "      <td>0.170635</td>\n",
              "      <td>10.152335</td>\n",
              "      <td>0.807658</td>\n",
              "      <td>0.743973</td>\n",
              "      <td>W294</td>\n",
              "      <td>W</td>\n",
              "    </tr>\n",
              "    <tr>\n",
              "      <th>34648</th>\n",
              "      <td>1.972855</td>\n",
              "      <td>1.980827</td>\n",
              "      <td>1.980392</td>\n",
              "      <td>W294</td>\n",
              "      <td>0.170635</td>\n",
              "      <td>10.152335</td>\n",
              "      <td>0.807658</td>\n",
              "      <td>0.743973</td>\n",
              "      <td>W294</td>\n",
              "      <td>W</td>\n",
              "    </tr>\n",
              "    <tr>\n",
              "      <th>34649</th>\n",
              "      <td>1.972871</td>\n",
              "      <td>1.980947</td>\n",
              "      <td>1.979927</td>\n",
              "      <td>W294</td>\n",
              "      <td>0.170635</td>\n",
              "      <td>10.152335</td>\n",
              "      <td>0.807658</td>\n",
              "      <td>0.743973</td>\n",
              "      <td>W294</td>\n",
              "      <td>W</td>\n",
              "    </tr>\n",
              "  </tbody>\n",
              "</table>\n",
              "<p>34650 rows × 10 columns</p>\n",
              "</div>\n",
              "      <button class=\"colab-df-convert\" onclick=\"convertToInteractive('df-b67f2435-3f17-494c-88bd-bbd26c142977')\"\n",
              "              title=\"Convert this dataframe to an interactive table.\"\n",
              "              style=\"display:none;\">\n",
              "        \n",
              "  <svg xmlns=\"http://www.w3.org/2000/svg\" height=\"24px\"viewBox=\"0 0 24 24\"\n",
              "       width=\"24px\">\n",
              "    <path d=\"M0 0h24v24H0V0z\" fill=\"none\"/>\n",
              "    <path d=\"M18.56 5.44l.94 2.06.94-2.06 2.06-.94-2.06-.94-.94-2.06-.94 2.06-2.06.94zm-11 1L8.5 8.5l.94-2.06 2.06-.94-2.06-.94L8.5 2.5l-.94 2.06-2.06.94zm10 10l.94 2.06.94-2.06 2.06-.94-2.06-.94-.94-2.06-.94 2.06-2.06.94z\"/><path d=\"M17.41 7.96l-1.37-1.37c-.4-.4-.92-.59-1.43-.59-.52 0-1.04.2-1.43.59L10.3 9.45l-7.72 7.72c-.78.78-.78 2.05 0 2.83L4 21.41c.39.39.9.59 1.41.59.51 0 1.02-.2 1.41-.59l7.78-7.78 2.81-2.81c.8-.78.8-2.07 0-2.86zM5.41 20L4 18.59l7.72-7.72 1.47 1.35L5.41 20z\"/>\n",
              "  </svg>\n",
              "      </button>\n",
              "      \n",
              "  <style>\n",
              "    .colab-df-container {\n",
              "      display:flex;\n",
              "      flex-wrap:wrap;\n",
              "      gap: 12px;\n",
              "    }\n",
              "\n",
              "    .colab-df-convert {\n",
              "      background-color: #E8F0FE;\n",
              "      border: none;\n",
              "      border-radius: 50%;\n",
              "      cursor: pointer;\n",
              "      display: none;\n",
              "      fill: #1967D2;\n",
              "      height: 32px;\n",
              "      padding: 0 0 0 0;\n",
              "      width: 32px;\n",
              "    }\n",
              "\n",
              "    .colab-df-convert:hover {\n",
              "      background-color: #E2EBFA;\n",
              "      box-shadow: 0px 1px 2px rgba(60, 64, 67, 0.3), 0px 1px 3px 1px rgba(60, 64, 67, 0.15);\n",
              "      fill: #174EA6;\n",
              "    }\n",
              "\n",
              "    [theme=dark] .colab-df-convert {\n",
              "      background-color: #3B4455;\n",
              "      fill: #D2E3FC;\n",
              "    }\n",
              "\n",
              "    [theme=dark] .colab-df-convert:hover {\n",
              "      background-color: #434B5C;\n",
              "      box-shadow: 0px 1px 3px 1px rgba(0, 0, 0, 0.15);\n",
              "      filter: drop-shadow(0px 1px 2px rgba(0, 0, 0, 0.3));\n",
              "      fill: #FFFFFF;\n",
              "    }\n",
              "  </style>\n",
              "\n",
              "      <script>\n",
              "        const buttonEl =\n",
              "          document.querySelector('#df-b67f2435-3f17-494c-88bd-bbd26c142977 button.colab-df-convert');\n",
              "        buttonEl.style.display =\n",
              "          google.colab.kernel.accessAllowed ? 'block' : 'none';\n",
              "\n",
              "        async function convertToInteractive(key) {\n",
              "          const element = document.querySelector('#df-b67f2435-3f17-494c-88bd-bbd26c142977');\n",
              "          const dataTable =\n",
              "            await google.colab.kernel.invokeFunction('convertToInteractive',\n",
              "                                                     [key], {});\n",
              "          if (!dataTable) return;\n",
              "\n",
              "          const docLinkHtml = 'Like what you see? Visit the ' +\n",
              "            '<a target=\"_blank\" href=https://colab.research.google.com/notebooks/data_table.ipynb>data table notebook</a>'\n",
              "            + ' to learn more about interactive tables.';\n",
              "          element.innerHTML = '';\n",
              "          dataTable['output_type'] = 'display_data';\n",
              "          await google.colab.output.renderOutput(dataTable, element);\n",
              "          const docLink = document.createElement('div');\n",
              "          docLink.innerHTML = docLinkHtml;\n",
              "          element.appendChild(docLink);\n",
              "        }\n",
              "      </script>\n",
              "    </div>\n",
              "  </div>\n",
              "  "
            ]
          },
          "metadata": {},
          "execution_count": 74
        }
      ]
    },
    {
      "cell_type": "code",
      "source": [
        ""
      ],
      "metadata": {
        "id": "f7zVY_vuwPjY"
      },
      "execution_count": null,
      "outputs": []
    }
  ]
}