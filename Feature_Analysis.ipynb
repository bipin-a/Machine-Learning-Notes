{
  "nbformat": 4,
  "nbformat_minor": 0,
  "metadata": {
    "colab": {
      "name": "Feature Analysis.ipynb",
      "provenance": [],
      "collapsed_sections": [],
      "authorship_tag": "ABX9TyPcCwrjuerVTd30OSrb1769",
      "include_colab_link": true
    },
    "kernelspec": {
      "name": "python3",
      "display_name": "Python 3"
    },
    "language_info": {
      "name": "python"
    }
  },
  "cells": [
    {
      "cell_type": "markdown",
      "metadata": {
        "id": "view-in-github",
        "colab_type": "text"
      },
      "source": [
        "<a href=\"https://colab.research.google.com/github/bipin-a/Machine-Learning-Notes/blob/main/Feature_Analysis.ipynb\" target=\"_parent\"><img src=\"https://colab.research.google.com/assets/colab-badge.svg\" alt=\"Open In Colab\"/></a>"
      ]
    },
    {
      "cell_type": "code",
      "source": [
        "import pandas as pd\n",
        "import matplotlib.pyplot as plt\n",
        "import math\n",
        "import numpy as np\n",
        "from scipy.stats import entropy\n",
        "from scipy.signal import find_peaks\n",
        "from sklearn.preprocessing import PowerTransformer\n",
        "from datetime import timedelta\n",
        "from math import log2\n",
        "from scipy.signal import peak_prominences\n",
        "import tensorflow as tf\n",
        "import json\n",
        "import random\n",
        "import gc\n",
        "from sklearn.model_selection import train_test_split\n",
        "from typing import Union\n",
        "from collections import namedtuple\n",
        "\n",
        "import numpy.typing as npt"
      ],
      "metadata": {
        "id": "wXPhmVGOsq8Q"
      },
      "execution_count": 2,
      "outputs": []
    },
    {
      "cell_type": "code",
      "source": [
        "from google.colab import drive\n",
        "drive.mount('/content/drive')"
      ],
      "metadata": {
        "colab": {
          "base_uri": "https://localhost:8080/"
        },
        "id": "X2ycHDQ75b5A",
        "outputId": "19dedf2b-5a66-4910-dee7-dec81c0b1306"
      },
      "execution_count": 3,
      "outputs": [
        {
          "output_type": "stream",
          "name": "stdout",
          "text": [
            "Mounted at /content/drive\n"
          ]
        }
      ]
    },
    {
      "cell_type": "code",
      "source": [
        "data_dir = \"/content/drive/Shareddrives/BipinA/Neural_Networks_Data/\""
      ],
      "metadata": {
        "id": "yAnIEMY85TOP"
      },
      "execution_count": 4,
      "outputs": []
    },
    {
      "cell_type": "code",
      "source": [
        "daily_features = pd.concat([pd.read_csv(f\"{data_dir}daily_features.csv\"),pd.read_csv(f\"{data_dir}daily_features_pt2.csv\")])\n",
        "weekly_features = pd.read_csv(f\"{data_dir}weekly_features.csv\")\n",
        "monthly_features = pd.concat([pd.read_csv(f\"{data_dir}monthly_features_1.csv\"),\n",
        "                              pd.read_csv(f\"{data_dir}monthly_features_2.csv\"),\n",
        "                              pd.read_csv(f\"{data_dir}monthly_features_3.csv\"),\n",
        "                              pd.read_csv(f\"{data_dir}monthly_features_4.csv\"),\n",
        "                              pd.read_csv(f\"{data_dir}monthly_features_5.csv\"),\n",
        "                              ])\n",
        "all_features = pd.concat([daily_features,weekly_features,monthly_features])\n",
        "del daily_features, weekly_features, monthly_features"
      ],
      "metadata": {
        "id": "edZp0-Rkyo0-"
      },
      "execution_count": 5,
      "outputs": []
    },
    {
      "cell_type": "code",
      "source": [
        "all_features.shape"
      ],
      "metadata": {
        "colab": {
          "base_uri": "https://localhost:8080/"
        },
        "id": "5bXmRbgJewzg",
        "outputId": "3325cd44-bfa4-4e79-a288-d34b43508b1d"
      },
      "execution_count": 6,
      "outputs": [
        {
          "output_type": "execute_result",
          "data": {
            "text/plain": [
              "(14586, 17)"
            ]
          },
          "metadata": {},
          "execution_count": 6
        }
      ]
    },
    {
      "cell_type": "code",
      "source": [
        "all_features['FREQ']=all_features['V1'].apply(lambda x :x[0])\n"
      ],
      "metadata": {
        "id": "vPZaF8NHGLt1"
      },
      "execution_count": 7,
      "outputs": []
    },
    {
      "cell_type": "code",
      "source": [
        "features = [\"FREQ\",\"forecast_error\",\"ptLambda\",\"f_mean\",\"f_variance\",\"f_autocorr1\",\"f_trend_strength\",\"f_linearity\",\"f_all_seasonality_strength\",\"f_peak\",\"f_trough\",\"f_entropy\",\"f_lumpiness\",\"f_level_shift\",\"f_variance_change\",\"f_cross_points\"]"
      ],
      "metadata": {
        "id": "5fnAwnVpHMnI"
      },
      "execution_count": 8,
      "outputs": []
    },
    {
      "cell_type": "code",
      "source": [
        "poor_seasonal = all_features[all_features.forecast_error > all_features.forecast_error.quantile(0.75)]"
      ],
      "metadata": {
        "colab": {
          "base_uri": "https://localhost:8080/",
          "height": 334
        },
        "id": "80_8J6zINhJR",
        "outputId": "80b06d84-a38a-4536-f65c-673697216d16"
      },
      "execution_count": null,
      "outputs": [
        {
          "output_type": "execute_result",
          "data": {
            "text/plain": [
              "(array([ 668.,    0.,    0.,    0.,    0.,  135.,    0.,    0.,    0.,\n",
              "        2844.]),\n",
              " array([0. , 0.2, 0.4, 0.6, 0.8, 1. , 1.2, 1.4, 1.6, 1.8, 2. ]),\n",
              " <a list of 10 Patch objects>)"
            ]
          },
          "metadata": {},
          "execution_count": 39
        },
        {
          "output_type": "display_data",
          "data": {
            "text/plain": [
              "<Figure size 432x288 with 1 Axes>"
            ],
            "image/png": "[encoded data removed]"
          },
          "metadata": {
            "needs_background": "light"
          }
        }
      ]
    },
    {
      "cell_type": "code",
      "source": [
        "for col in features:\n",
        "  fig,ax = plt.subplots()\n",
        "  _ = ax.hist(all_features[col], bins = 50)\n",
        "  ax.set_title(f\"Histogram {col}\")\n",
        "  fig.savefig(f\"{data_dir}/imgs/Histogram_{col}.png\")\n"
      ],
      "metadata": {
        "colab": {
          "base_uri": "https://localhost:8080/",
          "height": 1000
        },
        "id": "YhHrSWbXGi3m",
        "outputId": "aff613d1-1353-45e8-f6a5-3b9ee22d2be0"
      },
      "execution_count": 11,
      "outputs": [
        {
          "output_type": "display_data",
          "data": {
            "text/plain": [
              "<Figure size 432x288 with 1 Axes>"
            ],
            "image/png": "[encoded data removed]"
          },
          "metadata": {
            "needs_background": "light"
          }
        },
        {
          "output_type": "display_data",
          "data": {
            "text/plain": [
              "<Figure size 432x288 with 1 Axes>"
            ],
            "image/png": "[encoded data removed]"
          },
          "metadata": {
            "needs_background": "light"
          }
        },
        {
          "output_type": "display_data",
          "data": {
            "text/plain": [
              "<Figure size 432x288 with 1 Axes>"
            ],
            "image/png": "[encoded data removed]"
          },
          "metadata": {
            "needs_background": "light"
          }
        },
        {
          "output_type": "display_data",
          "data": {
            "text/plain": [
              "<Figure size 432x288 with 1 Axes>"
            ],
            "image/png": "[encoded data removed]"
          },
          "metadata": {
            "needs_background": "light"
          }
        },
        {
          "output_type": "display_data",
          "data": {
            "text/plain": [
              "<Figure size 432x288 with 1 Axes>"
            ],
            "image/png": "[encoded data removed]"
          },
          "metadata": {
            "needs_background": "light"
          }
        },
        {
          "output_type": "display_data",
          "data": {
            "text/plain": [
              "<Figure size 432x288 with 1 Axes>"
            ],
            "image/png": "[encoded data removed]"
          },
          "metadata": {
            "needs_background": "light"
          }
        },
        {
          "output_type": "display_data",
          "data": {
            "text/plain": [
              "<Figure size 432x288 with 1 Axes>"
            ],
            "image/png": "[encoded data removed]"
          },
          "metadata": {
            "needs_background": "light"
          }
        },
        {
          "output_type": "display_data",
          "data": {
            "text/plain": [
              "<Figure size 432x288 with 1 Axes>"
            ],
            "image/png": "[encoded data removed]"
          },
          "metadata": {
            "needs_background": "light"
          }
        },
        {
          "output_type": "display_data",
          "data": {
            "text/plain": [
              "<Figure size 432x288 with 1 Axes>"
            ],
            "image/png": "[encoded data removed]"
          },
          "metadata": {
            "needs_background": "light"
          }
        },
        {
          "output_type": "display_data",
          "data": {
            "text/plain": [
              "<Figure size 432x288 with 1 Axes>"
            ],
            "image/png": "[encoded data removed]"
          },
          "metadata": {
            "needs_background": "light"
          }
        },
        {
          "output_type": "display_data",
          "data": {
            "text/plain": [
              "<Figure size 432x288 with 1 Axes>"
            ],
            "image/png": "[encoded data removed]"
          },
          "metadata": {
            "needs_background": "light"
          }
        },
        {
          "output_type": "display_data",
          "data": {
            "text/plain": [
              "<Figure size 432x288 with 1 Axes>"
            ],
            "image/png": "[encoded data removed]"
          },
          "metadata": {
            "needs_background": "light"
          }
        },
        {
          "output_type": "display_data",
          "data": {
            "text/plain": [
              "<Figure size 432x288 with 1 Axes>"
            ],
            "image/png": "[encoded data removed]"
          },
          "metadata": {
            "needs_background": "light"
          }
        },
        {
          "output_type": "display_data",
          "data": {
            "text/plain": [
              "<Figure size 432x288 with 1 Axes>"
            ],
            "image/png": "[encoded data removed]"
          },
          "metadata": {
            "needs_background": "light"
          }
        },
        {
          "output_type": "display_data",
          "data": {
            "text/plain": [
              "<Figure size 432x288 with 1 Axes>"
            ],
            "image/png": "[encoded data removed]"
          },
          "metadata": {
            "needs_background": "light"
          }
        },
        {
          "output_type": "display_data",
          "data": {
            "text/plain": [
              "<Figure size 432x288 with 1 Axes>"
            ],
            "image/png": "[encoded data removed]"
          },
          "metadata": {
            "needs_background": "light"
          }
        }
      ]
    },
    {
      "cell_type": "code",
      "source": [
        "all_features"
      ],
      "metadata": {
        "colab": {
          "base_uri": "https://localhost:8080/",
          "height": 661
        },
        "id": "SfBjRGsPG9TV",
        "outputId": "becc69bf-b961-4b09-b062-04bfe0f6c4b1"
      },
      "execution_count": null,
      "outputs": [
        {
          "output_type": "execute_result",
          "data": {
            "text/plain": [
              "          V1   ptLambda       f_mean    f_variance  f_autocorr1  \\\n",
              "0         D1  -0.265874  1430.834216  1.034797e+05     0.999746   \n",
              "1         D2  -4.014554  2942.185098  9.246735e+04     0.997404   \n",
              "2         D3 -14.383309  1057.217361  3.730883e+03     0.927478   \n",
              "3         D4  -0.108053  1049.267760  2.929534e+04     0.835683   \n",
              "4         D5   1.428475  4588.186941  1.084146e+06     0.990436   \n",
              "...      ...        ...          ...           ...          ...   \n",
              "1995   M9996  -0.282626  1656.896552  7.570007e+05     0.976661   \n",
              "1996   M9997  -0.429356  1602.068966  3.210259e+05     0.967692   \n",
              "1997   M9998  -0.025465  2348.735632  1.446886e+06     0.979307   \n",
              "1998   M9999   1.111523  9460.919540  1.444590e+07     0.978267   \n",
              "1999  M10000  -0.758211  3280.689655  1.468027e+06     0.956242   \n",
              "\n",
              "      f_trend_strength  f_linearity  f_all_seasonality_strength    f_peak  \\\n",
              "0             0.998701     0.973209                    0.895773  0.689458   \n",
              "1             0.980055     0.587550                    0.697496  1.598030   \n",
              "2             0.325886     0.164803                    0.198473  0.237037   \n",
              "3             0.112556     0.034539                    0.093767  2.828639   \n",
              "4             0.909748     0.858135                    0.064006  0.361147   \n",
              "...                ...          ...                         ...       ...   \n",
              "1995          0.951414     0.641946                    0.792982  2.824558   \n",
              "1996          0.873595     0.696387                    0.605250  1.991175   \n",
              "1997          0.871005     0.828145                    0.156435  1.562543   \n",
              "1998          0.898742     0.791964                    0.198224  1.458632   \n",
              "1999          0.873829     0.611366                    0.700945  2.005676   \n",
              "\n",
              "      f_trough  f_entropy   f_lumpiness  f_level_shift  f_variance_change  \\\n",
              "0     0.684915   9.958312  1.364944e+05      91.233333       1.802607e+03   \n",
              "1     1.421461   9.986778  7.365989e+06     202.654167       8.282220e+03   \n",
              "2     0.280737   7.167537  1.107222e+07      79.737500       8.254553e+03   \n",
              "3     3.349002   7.496995  3.807899e+08     306.250000       3.451744e+04   \n",
              "4     0.415907   7.371108  2.243626e+10    1206.962083       3.980050e+05   \n",
              "...        ...        ...           ...            ...                ...   \n",
              "1995  2.100312   6.261576  1.067549e+10    1587.083333       1.624655e+05   \n",
              "1996  1.660353   6.357279  2.989112e+08     908.333333       3.452135e+04   \n",
              "1997  1.264510   6.259761  3.677965e+10    1390.000000       3.145917e+05   \n",
              "1998  1.173247   6.315970  4.648800e+12    4037.500000       3.836510e+06   \n",
              "1999  1.286315   6.353701  9.787110e+10    2032.083333       4.545773e+05   \n",
              "\n",
              "      f_cross_points  forecast_error  \\\n",
              "0                  7        0.006629   \n",
              "1                 13        0.010942   \n",
              "2                  4        0.035447   \n",
              "3                 30        0.101465   \n",
              "4                  1        0.078155   \n",
              "...              ...             ...   \n",
              "1995              11        0.090829   \n",
              "1996               9        0.095270   \n",
              "1997               2        0.152506   \n",
              "1998               9        0.137530   \n",
              "1999               9        0.078416   \n",
              "\n",
              "                                           fit_forecast FREQ  \n",
              "0     {\"ds\":{\"0\":762523200000,\"1\":762609600000,\"2\":7...    D  \n",
              "1     {\"ds\":{\"0\":791640000000,\"1\":791726400000,\"2\":7...    D  \n",
              "2     {\"ds\":{\"0\":1146484800000,\"1\":1146571200000,\"2\"...    D  \n",
              "3     {\"ds\":{\"0\":833457600000,\"1\":833544000000,\"2\":8...    D  \n",
              "4     {\"ds\":{\"0\":857217600000,\"1\":857304000000,\"2\":8...    D  \n",
              "...                                                 ...  ...  \n",
              "1995  {\"ds\":{\"0\":1264939200000,\"1\":1267358400000,\"2\"...    M  \n",
              "1996  {\"ds\":{\"0\":1264939200000,\"1\":1267358400000,\"2\"...    M  \n",
              "1997  {\"ds\":{\"0\":1264939200000,\"1\":1267358400000,\"2\"...    M  \n",
              "1998  {\"ds\":{\"0\":1264939200000,\"1\":1267358400000,\"2\"...    M  \n",
              "1999  {\"ds\":{\"0\":1264939200000,\"1\":1267358400000,\"2\"...    M  \n",
              "\n",
              "[14586 rows x 18 columns]"
            ],
            "text/html": [
              "\n",
              "  <div id=\"df-4bfe5cc1-de3d-4b61-9d89-0cad5a137692\">\n",
              "    <div class=\"colab-df-container\">\n",
              "      <div>\n",
              "<style scoped>\n",
              "    .dataframe tbody tr th:only-of-type {\n",
              "        vertical-align: middle;\n",
              "    }\n",
              "\n",
              "    .dataframe tbody tr th {\n",
              "        vertical-align: top;\n",
              "    }\n",
              "\n",
              "    .dataframe thead th {\n",
              "        text-align: right;\n",
              "    }\n",
              "</style>\n",
              "<table border=\"1\" class=\"dataframe\">\n",
              "  <thead>\n",
              "    <tr style=\"text-align: right;\">\n",
              "      <th></th>\n",
              "      <th>V1</th>\n",
              "      <th>ptLambda</th>\n",
              "      <th>f_mean</th>\n",
              "      <th>f_variance</th>\n",
              "      <th>f_autocorr1</th>\n",
              "      <th>f_trend_strength</th>\n",
              "      <th>f_linearity</th>\n",
              "      <th>f_all_seasonality_strength</th>\n",
              "      <th>f_peak</th>\n",
              "      <th>f_trough</th>\n",
              "      <th>f_entropy</th>\n",
              "      <th>f_lumpiness</th>\n",
              "      <th>f_level_shift</th>\n",
              "      <th>f_variance_change</th>\n",
              "      <th>f_cross_points</th>\n",
              "      <th>forecast_error</th>\n",
              "      <th>fit_forecast</th>\n",
              "      <th>FREQ</th>\n",
              "    </tr>\n",
              "  </thead>\n",
              "  <tbody>\n",
              "    <tr>\n",
              "      <th>0</th>\n",
              "      <td>D1</td>\n",
              "      <td>-0.265874</td>\n",
              "      <td>1430.834216</td>\n",
              "      <td>1.034797e+05</td>\n",
              "      <td>0.999746</td>\n",
              "      <td>0.998701</td>\n",
              "      <td>0.973209</td>\n",
              "      <td>0.895773</td>\n",
              "      <td>0.689458</td>\n",
              "      <td>0.684915</td>\n",
              "      <td>9.958312</td>\n",
              "      <td>1.364944e+05</td>\n",
              "      <td>91.233333</td>\n",
              "      <td>1.802607e+03</td>\n",
              "      <td>7</td>\n",
              "      <td>0.006629</td>\n",
              "      <td>{\"ds\":{\"0\":762523200000,\"1\":762609600000,\"2\":7...</td>\n",
              "      <td>D</td>\n",
              "    </tr>\n",
              "    <tr>\n",
              "      <th>1</th>\n",
              "      <td>D2</td>\n",
              "      <td>-4.014554</td>\n",
              "      <td>2942.185098</td>\n",
              "      <td>9.246735e+04</td>\n",
              "      <td>0.997404</td>\n",
              "      <td>0.980055</td>\n",
              "      <td>0.587550</td>\n",
              "      <td>0.697496</td>\n",
              "      <td>1.598030</td>\n",
              "      <td>1.421461</td>\n",
              "      <td>9.986778</td>\n",
              "      <td>7.365989e+06</td>\n",
              "      <td>202.654167</td>\n",
              "      <td>8.282220e+03</td>\n",
              "      <td>13</td>\n",
              "      <td>0.010942</td>\n",
              "      <td>{\"ds\":{\"0\":791640000000,\"1\":791726400000,\"2\":7...</td>\n",
              "      <td>D</td>\n",
              "    </tr>\n",
              "    <tr>\n",
              "      <th>2</th>\n",
              "      <td>D3</td>\n",
              "      <td>-14.383309</td>\n",
              "      <td>1057.217361</td>\n",
              "      <td>3.730883e+03</td>\n",
              "      <td>0.927478</td>\n",
              "      <td>0.325886</td>\n",
              "      <td>0.164803</td>\n",
              "      <td>0.198473</td>\n",
              "      <td>0.237037</td>\n",
              "      <td>0.280737</td>\n",
              "      <td>7.167537</td>\n",
              "      <td>1.107222e+07</td>\n",
              "      <td>79.737500</td>\n",
              "      <td>8.254553e+03</td>\n",
              "      <td>4</td>\n",
              "      <td>0.035447</td>\n",
              "      <td>{\"ds\":{\"0\":1146484800000,\"1\":1146571200000,\"2\"...</td>\n",
              "      <td>D</td>\n",
              "    </tr>\n",
              "    <tr>\n",
              "      <th>3</th>\n",
              "      <td>D4</td>\n",
              "      <td>-0.108053</td>\n",
              "      <td>1049.267760</td>\n",
              "      <td>2.929534e+04</td>\n",
              "      <td>0.835683</td>\n",
              "      <td>0.112556</td>\n",
              "      <td>0.034539</td>\n",
              "      <td>0.093767</td>\n",
              "      <td>2.828639</td>\n",
              "      <td>3.349002</td>\n",
              "      <td>7.496995</td>\n",
              "      <td>3.807899e+08</td>\n",
              "      <td>306.250000</td>\n",
              "      <td>3.451744e+04</td>\n",
              "      <td>30</td>\n",
              "      <td>0.101465</td>\n",
              "      <td>{\"ds\":{\"0\":833457600000,\"1\":833544000000,\"2\":8...</td>\n",
              "      <td>D</td>\n",
              "    </tr>\n",
              "    <tr>\n",
              "      <th>4</th>\n",
              "      <td>D5</td>\n",
              "      <td>1.428475</td>\n",
              "      <td>4588.186941</td>\n",
              "      <td>1.084146e+06</td>\n",
              "      <td>0.990436</td>\n",
              "      <td>0.909748</td>\n",
              "      <td>0.858135</td>\n",
              "      <td>0.064006</td>\n",
              "      <td>0.361147</td>\n",
              "      <td>0.415907</td>\n",
              "      <td>7.371108</td>\n",
              "      <td>2.243626e+10</td>\n",
              "      <td>1206.962083</td>\n",
              "      <td>3.980050e+05</td>\n",
              "      <td>1</td>\n",
              "      <td>0.078155</td>\n",
              "      <td>{\"ds\":{\"0\":857217600000,\"1\":857304000000,\"2\":8...</td>\n",
              "      <td>D</td>\n",
              "    </tr>\n",
              "    <tr>\n",
              "      <th>...</th>\n",
              "      <td>...</td>\n",
              "      <td>...</td>\n",
              "      <td>...</td>\n",
              "      <td>...</td>\n",
              "      <td>...</td>\n",
              "      <td>...</td>\n",
              "      <td>...</td>\n",
              "      <td>...</td>\n",
              "      <td>...</td>\n",
              "      <td>...</td>\n",
              "      <td>...</td>\n",
              "      <td>...</td>\n",
              "      <td>...</td>\n",
              "      <td>...</td>\n",
              "      <td>...</td>\n",
              "      <td>...</td>\n",
              "      <td>...</td>\n",
              "      <td>...</td>\n",
              "    </tr>\n",
              "    <tr>\n",
              "      <th>1995</th>\n",
              "      <td>M9996</td>\n",
              "      <td>-0.282626</td>\n",
              "      <td>1656.896552</td>\n",
              "      <td>7.570007e+05</td>\n",
              "      <td>0.976661</td>\n",
              "      <td>0.951414</td>\n",
              "      <td>0.641946</td>\n",
              "      <td>0.792982</td>\n",
              "      <td>2.824558</td>\n",
              "      <td>2.100312</td>\n",
              "      <td>6.261576</td>\n",
              "      <td>1.067549e+10</td>\n",
              "      <td>1587.083333</td>\n",
              "      <td>1.624655e+05</td>\n",
              "      <td>11</td>\n",
              "      <td>0.090829</td>\n",
              "      <td>{\"ds\":{\"0\":1264939200000,\"1\":1267358400000,\"2\"...</td>\n",
              "      <td>M</td>\n",
              "    </tr>\n",
              "    <tr>\n",
              "      <th>1996</th>\n",
              "      <td>M9997</td>\n",
              "      <td>-0.429356</td>\n",
              "      <td>1602.068966</td>\n",
              "      <td>3.210259e+05</td>\n",
              "      <td>0.967692</td>\n",
              "      <td>0.873595</td>\n",
              "      <td>0.696387</td>\n",
              "      <td>0.605250</td>\n",
              "      <td>1.991175</td>\n",
              "      <td>1.660353</td>\n",
              "      <td>6.357279</td>\n",
              "      <td>2.989112e+08</td>\n",
              "      <td>908.333333</td>\n",
              "      <td>3.452135e+04</td>\n",
              "      <td>9</td>\n",
              "      <td>0.095270</td>\n",
              "      <td>{\"ds\":{\"0\":1264939200000,\"1\":1267358400000,\"2\"...</td>\n",
              "      <td>M</td>\n",
              "    </tr>\n",
              "    <tr>\n",
              "      <th>1997</th>\n",
              "      <td>M9998</td>\n",
              "      <td>-0.025465</td>\n",
              "      <td>2348.735632</td>\n",
              "      <td>1.446886e+06</td>\n",
              "      <td>0.979307</td>\n",
              "      <td>0.871005</td>\n",
              "      <td>0.828145</td>\n",
              "      <td>0.156435</td>\n",
              "      <td>1.562543</td>\n",
              "      <td>1.264510</td>\n",
              "      <td>6.259761</td>\n",
              "      <td>3.677965e+10</td>\n",
              "      <td>1390.000000</td>\n",
              "      <td>3.145917e+05</td>\n",
              "      <td>2</td>\n",
              "      <td>0.152506</td>\n",
              "      <td>{\"ds\":{\"0\":1264939200000,\"1\":1267358400000,\"2\"...</td>\n",
              "      <td>M</td>\n",
              "    </tr>\n",
              "    <tr>\n",
              "      <th>1998</th>\n",
              "      <td>M9999</td>\n",
              "      <td>1.111523</td>\n",
              "      <td>9460.919540</td>\n",
              "      <td>1.444590e+07</td>\n",
              "      <td>0.978267</td>\n",
              "      <td>0.898742</td>\n",
              "      <td>0.791964</td>\n",
              "      <td>0.198224</td>\n",
              "      <td>1.458632</td>\n",
              "      <td>1.173247</td>\n",
              "      <td>6.315970</td>\n",
              "      <td>4.648800e+12</td>\n",
              "      <td>4037.500000</td>\n",
              "      <td>3.836510e+06</td>\n",
              "      <td>9</td>\n",
              "      <td>0.137530</td>\n",
              "      <td>{\"ds\":{\"0\":1264939200000,\"1\":1267358400000,\"2\"...</td>\n",
              "      <td>M</td>\n",
              "    </tr>\n",
              "    <tr>\n",
              "      <th>1999</th>\n",
              "      <td>M10000</td>\n",
              "      <td>-0.758211</td>\n",
              "      <td>3280.689655</td>\n",
              "      <td>1.468027e+06</td>\n",
              "      <td>0.956242</td>\n",
              "      <td>0.873829</td>\n",
              "      <td>0.611366</td>\n",
              "      <td>0.700945</td>\n",
              "      <td>2.005676</td>\n",
              "      <td>1.286315</td>\n",
              "      <td>6.353701</td>\n",
              "      <td>9.787110e+10</td>\n",
              "      <td>2032.083333</td>\n",
              "      <td>4.545773e+05</td>\n",
              "      <td>9</td>\n",
              "      <td>0.078416</td>\n",
              "      <td>{\"ds\":{\"0\":1264939200000,\"1\":1267358400000,\"2\"...</td>\n",
              "      <td>M</td>\n",
              "    </tr>\n",
              "  </tbody>\n",
              "</table>\n",
              "<p>14586 rows × 18 columns</p>\n",
              "</div>\n",
              "      <button class=\"colab-df-convert\" onclick=\"convertToInteractive('df-4bfe5cc1-de3d-4b61-9d89-0cad5a137692')\"\n",
              "              title=\"Convert this dataframe to an interactive table.\"\n",
              "              style=\"display:none;\">\n",
              "        \n",
              "  <svg xmlns=\"http://www.w3.org/2000/svg\" height=\"24px\"viewBox=\"0 0 24 24\"\n",
              "       width=\"24px\">\n",
              "    <path d=\"M0 0h24v24H0V0z\" fill=\"none\"/>\n",
              "    <path d=\"M18.56 5.44l.94 2.06.94-2.06 2.06-.94-2.06-.94-.94-2.06-.94 2.06-2.06.94zm-11 1L8.5 8.5l.94-2.06 2.06-.94-2.06-.94L8.5 2.5l-.94 2.06-2.06.94zm10 10l.94 2.06.94-2.06 2.06-.94-2.06-.94-.94-2.06-.94 2.06-2.06.94z\"/><path d=\"M17.41 7.96l-1.37-1.37c-.4-.4-.92-.59-1.43-.59-.52 0-1.04.2-1.43.59L10.3 9.45l-7.72 7.72c-.78.78-.78 2.05 0 2.83L4 21.41c.39.39.9.59 1.41.59.51 0 1.02-.2 1.41-.59l7.78-7.78 2.81-2.81c.8-.78.8-2.07 0-2.86zM5.41 20L4 18.59l7.72-7.72 1.47 1.35L5.41 20z\"/>\n",
              "  </svg>\n",
              "      </button>\n",
              "      \n",
              "  <style>\n",
              "    .colab-df-container {\n",
              "      display:flex;\n",
              "      flex-wrap:wrap;\n",
              "      gap: 12px;\n",
              "    }\n",
              "\n",
              "    .colab-df-convert {\n",
              "      background-color: #E8F0FE;\n",
              "      border: none;\n",
              "      border-radius: 50%;\n",
              "      cursor: pointer;\n",
              "      display: none;\n",
              "      fill: #1967D2;\n",
              "      height: 32px;\n",
              "      padding: 0 0 0 0;\n",
              "      width: 32px;\n",
              "    }\n",
              "\n",
              "    .colab-df-convert:hover {\n",
              "      background-color: #E2EBFA;\n",
              "      box-shadow: 0px 1px 2px rgba(60, 64, 67, 0.3), 0px 1px 3px 1px rgba(60, 64, 67, 0.15);\n",
              "      fill: #174EA6;\n",
              "    }\n",
              "\n",
              "    [theme=dark] .colab-df-convert {\n",
              "      background-color: #3B4455;\n",
              "      fill: #D2E3FC;\n",
              "    }\n",
              "\n",
              "    [theme=dark] .colab-df-convert:hover {\n",
              "      background-color: #434B5C;\n",
              "      box-shadow: 0px 1px 3px 1px rgba(0, 0, 0, 0.15);\n",
              "      filter: drop-shadow(0px 1px 2px rgba(0, 0, 0, 0.3));\n",
              "      fill: #FFFFFF;\n",
              "    }\n",
              "  </style>\n",
              "\n",
              "      <script>\n",
              "        const buttonEl =\n",
              "          document.querySelector('#df-4bfe5cc1-de3d-4b61-9d89-0cad5a137692 button.colab-df-convert');\n",
              "        buttonEl.style.display =\n",
              "          google.colab.kernel.accessAllowed ? 'block' : 'none';\n",
              "\n",
              "        async function convertToInteractive(key) {\n",
              "          const element = document.querySelector('#df-4bfe5cc1-de3d-4b61-9d89-0cad5a137692');\n",
              "          const dataTable =\n",
              "            await google.colab.kernel.invokeFunction('convertToInteractive',\n",
              "                                                     [key], {});\n",
              "          if (!dataTable) return;\n",
              "\n",
              "          const docLinkHtml = 'Like what you see? Visit the ' +\n",
              "            '<a target=\"_blank\" href=https://colab.research.google.com/notebooks/data_table.ipynb>data table notebook</a>'\n",
              "            + ' to learn more about interactive tables.';\n",
              "          element.innerHTML = '';\n",
              "          dataTable['output_type'] = 'display_data';\n",
              "          await google.colab.output.renderOutput(dataTable, element);\n",
              "          const docLink = document.createElement('div');\n",
              "          docLink.innerHTML = docLinkHtml;\n",
              "          element.appendChild(docLink);\n",
              "        }\n",
              "      </script>\n",
              "    </div>\n",
              "  </div>\n",
              "  "
            ]
          },
          "metadata": {},
          "execution_count": 11
        }
      ]
    },
    {
      "cell_type": "code",
      "source": [
        "_ = plt.hist(all_features['FREQ'])\n",
        "plt.title(\"Sampling Distribution of data\")\n"
      ],
      "metadata": {
        "id": "9AH2GxzRGyIL"
      },
      "execution_count": null,
      "outputs": []
    }
  ]
}